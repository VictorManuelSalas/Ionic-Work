{
 "cells": [
  {
   "cell_type": "markdown",
   "metadata": {},
   "source": [
    "# Apuntes de Inicio con Ionic Framwork\n"
   ]
  },
  {
   "cell_type": "markdown",
   "metadata": {},
   "source": [
    "Requisitos de iniciacion (solo se ejecutan una ves): \n",
    "\n",
    "    1.- Instalar Node.js https://nodejs.org/en/\n",
    "    2.- Instalar Cordova con el comando: \" npm install -g cordova \"\n",
    "    3.- Instalar Ionic mediante cordova con el comando: \" npm install -g cordova ionic\"\n",
    "    4.- Verificar sus instalaciones con node -v, cordova -v y ionic info"
   ]
  },
  {
   "cell_type": "markdown",
   "metadata": {},
   "source": [
    "Instalacion de un nuevo proyecto:\n",
    "\n",
    "    1.- \" ionic start (nombre de la app) (tipo de plantilla)\" ejemplo \"ionic start MyApp Tabs\" hay mas plantillas en https://ionicframework.com/docs/v3/cli/starters.html\n",
    "    2.- Seleccionar que framework hay que usar da la opcion de angular, react y vue ya es cada quien su eleccion\n",
    "    3.- Aceptar el uso de capacitor en tu app o carvana ya que sirve para compilarlo mejor.\n",
    "    4.- Ingresar a la carpeta de la app nueva con el comando \" cd (nombre) \"\n",
    "    5.- Para visualizar la app hay que usar el comando \" ionic serve \""
   ]
  },
  {
   "cell_type": "markdown",
   "metadata": {},
   "source": [
    "# Angular e Ionic\n",
    "\n",
    " ### Como crear paginas o componentes\n",
    "\n",
    "Para crear una pagina se usa el comando \" ionic generate (tipo) (nombre)\" ejemplo para crear una pagina se usa: \n",
    "\n",
    "                                          ionic generate page home\n",
    "\n",
    "  ° En esta liga se encuentra los tipos de cosas que se pueden generar: https://ionicframework.com/docs/v5/cli/commands/generate\n",
    "\n",
    "\n",
    "\n"
   ]
  },
  {
   "cell_type": "markdown",
   "metadata": {},
   "source": [
    "## Rutas de archivos\n",
    " Estos se encuentran en la carpeta de app-routing.modules.ts ahi se encuentran automaticamente las rutas de las paginas que se crearon por el usuario.\n",
    "\n",
    " ## Agregar esas paginas a la barra de menu\n",
    " Esto se hace en el archivo app.components.ts donde se agrega  { title: 'Home', url: '/home', icon: 'warning' } por cada pagina que se quiere agregar en title se pone el nombre a mostrar, en url es la que se tiene en las rutas en 'path' ya en icon se pone el icono.\n",
    "\n",
    " ## Estilos\n",
    " Para agregar estilos, debemos de hacerlos en la carpeta Theme y en el archivo variables.scss y para generar un color propio se hace en https://ionicframework.com/docs/theming/colors donde se selecciona el color y el nombre que se le dara ya solo es pegarlo en el archivo de variables. Y en el scss global se edita solamente cambiando el color por el nombre de mi estilo ejemplo:\n",
    " \n",
    "                                color: var(--ion-color-primary); ->  color: var(--ion-color-miestilo);\n",
    "\n",
    "## Navegacion \n",
    "Para hacer esto primero debemos de ver la documentacion en https://ionicframework.com/docs/angular/navigation y buscar la seccion de como navegar entre diferentes rutas.\n",
    "\n",
    "### Formas de Navegar con botones\n",
    "    1.- Mediante una funcion.\n",
    "        Este se usa mediante una funcion en JS el cual se define como atributo click y el nombre de la funcion entre las comillas, por ejemplo: \" <button class=\"btn\" ion-button (click)=\"goToHome()\">Go to home</button> \", para configurar esa funcion es en el archivo de tayscriot de esa pagina\"carpeta\" en este caso es la customer.page.ts.\n",
    "\n",
    "        En este se encontrara la funcion constructor() donde le ingresaremos \" private router: Router \": constructor(private router: Router), este al darle clic a Router se importara ese elemento que se necesitara.\n",
    "\n",
    "        Luego se genera la funcion con el mismo nombre que se le asigno al clic y en este se usa el siguiente codigo donde entre los corchetes y comillas simples se le agrega la ruta a ir:\n",
    "                    goToHome(){\n",
    "                    this.router.navigate(['/home'])\n",
    "                    }\n",
    "\n",
    "    2.- Mediante routerlink.\n",
    "        Un ejemplo de un boton con este atributo que solo tenerlo y ponerle la ruta, servira al instante el ejemplo es: \" <button ion-button class=\"btn\" [routerLink]=\"['/customers']\">Go to customers</button> \" donde al darle clic se manda asia la pagina de customers."
   ]
  },
  {
   "cell_type": "markdown",
   "metadata": {},
   "source": [
    "## Listas\n",
    "Para generar una lista estas tienen sus estricturas definidas estas son tener las etiquetas:\n",
    "\n",
    "      <ion-list>\n",
    "        <ion-list-header>Titulo</ion-list-header>\n",
    "          <ion-item>\n",
    "            <ion-avatar slot=\"start\">\n",
    "              <img src=\"../../assets/customers-img/raul.jpg\">\n",
    "            </ion-avatar>\n",
    "            <ion-label>\n",
    "              <h2>Finn</h2>\n",
    "              <h3>I'm a big deal</h3>\n",
    "              <p>Listen, I've had a pretty messed up day...</p>\n",
    "            </ion-label>\n",
    "          </ion-item>\n",
    "      </ion-list>\n",
    "\n",
    "El ion-list es para crear la lista, el ion-list-header es para poner un titulo, lugo se requieren los items serian los renglones y en este se mustra una etiqueta para poner un avatar el cual tiene \"slot\" ese define su ubicacion ya sea derecha o izqueirda.\n",
    "\n",
    "El label es para el contenido ahi se agrega el texto h1, p, etc.\n",
    "Para ver mas info dale clic a -> https://ionicframework.com/docs/api/list\n",
    "\n",
    "## Grid\n",
    "Este es usado para hacer particiones en una pagina, este es usado mediante las etiquetas ion-grid, ion-row (definir un renglon), ion-col (definir una columna). Unos atributos que se usan para hacer este grid responsivo son los sizeLg (pantalla grande), sizeMd (pantalla mediana) y sizeXs (pantalla chica), hay que tener en cuenta que una pagina tiene solo permitido el tamaño de 12 en un renglon, por eso en el sig ejemplo en la pantalla chica se ponen valores para que solo 2 divs se ajusten en cada renglon.\n",
    "\n",
    "    <ion-grid>\n",
    "      <ion-row>\n",
    "        <ion-col sizeLg=\"4\" sizeMd=\"4\" sizeXs=\"6\"> \n",
    "        <div class=\"texto\"> Texto1</div> \n",
    "        </ion-col>\n",
    "        <ion-col sizeLg=\"4\" sizeMd=\"4\" sizeXs=\"6\">\n",
    "          <div class=\"texto\"> Texto1</div> \n",
    "        </ion-col>\n",
    "        <ion-col sizeLg=\"4\" sizeMd=\"4\" sizeXs=\"9\">\n",
    "          <div class=\"texto\"> Texto1</div> \n",
    "        </ion-col>\n",
    "        <ion-col sizeLg=\"4\" sizeMd=\"4\" sizeXs=\"3\">\n",
    "          <div class=\"texto\"> Texto1</div> \n",
    "        </ion-col>\n",
    "      </ion-row>\n",
    "    </ion-grid>\n",
    "\n",
    "Para mas detalles y atributos de grid puedes ver en la sig liga -> https://ionicframework.com/docs/api/grid"
   ]
  },
  {
   "cell_type": "markdown",
   "metadata": {},
   "source": [
    "## JSON - HTTP\n",
    "Para crear un JSON solo es poner el archivo con .JSON en el se tendra un objeto o array con datos como se muestra en el archivo customers.json el cual se creo en la carpeta assets>files este se creo para obtener datos sin necesidad de introducir uno por uno en el html.\n",
    "\n",
    "Para usar este elemento JSON es necesario instalar el plugin de HTTP de ionic, en el cual se debe de ejecutar estos comandos en caso de estar utilizado cordova, en caso de no usar cordova, visita el siguiente elnace para ver mas informacion sobre como instalar el plugin -> https://ionicframework.com/docs/native/http\n",
    "\n",
    "    npm install cordova-plugin-advanced-http \n",
    "    npm install @awesome-cordova-plugins/http \n",
    "    ionic cap sync"
   ]
  }
 ],
 "metadata": {
  "language_info": {
   "name": "python"
  },
  "orig_nbformat": 4
 },
 "nbformat": 4,
 "nbformat_minor": 2
}
