{
 "cells": [
  {
   "cell_type": "markdown",
   "metadata": {},
   "source": [
    "# Apuntes de Inicio con Ionic Framwork\n"
   ]
  },
  {
   "cell_type": "markdown",
   "metadata": {},
   "source": [
    "Requisitos de iniciacion (solo se ejecutan una ves): \n",
    "\n",
    "    1.- Instalar Node.js https://nodejs.org/en/\n",
    "    2.- Instalar Cordova con el comando: \" npm install -g cordova \"\n",
    "    3.- Instalar Ionic mediante cordova con el comando: \" npm install -g cordova ionic\"\n",
    "    4.- Verificar sus instalaciones con node -v, cordova -v y ionic info"
   ]
  },
  {
   "cell_type": "markdown",
   "metadata": {},
   "source": [
    "Instalacion de un nuevo proyecto:\n",
    "\n",
    "    1.- \" ionic start (nombre de la app) (tipo de plantilla)\" ejemplo \"ionic start MyApp Tabs\"\n",
    "    3.- Seleccionar que framework hay que usar da la opcion de angular, react y vue ya es cada quien su eleccion\n",
    "    2.- Ingresar a la carpeta de la app nueva con el comando \" cd (nombre) \"\n",
    "    3.- Para visualizar la app hay que usar el comando \" ionic serve \""
   ]
  }
 ],
 "metadata": {
  "language_info": {
   "name": "python"
  },
  "orig_nbformat": 4
 },
 "nbformat": 4,
 "nbformat_minor": 2
}
