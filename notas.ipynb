{
 "cells": [
  {
   "cell_type": "markdown",
   "metadata": {},
   "source": [
    "# Apuntes de Inicio con Ionic Framwork\n"
   ]
  },
  {
   "cell_type": "markdown",
   "metadata": {},
   "source": [
    "Requisitos de iniciacion (solo se ejecutan una ves): \n",
    "\n",
    "    1.- Instalar Node.js https://nodejs.org/en/\n",
    "    2.- Instalar Cordova con el comando: \" npm install -g cordova \"\n",
    "    3.- Instalar Ionic mediante cordova con el comando: \" npm install -g cordova ionic\"\n",
    "    4.- Verificar sus instalaciones con node -v, cordova -v y ionic info"
   ]
  },
  {
   "cell_type": "markdown",
   "metadata": {},
   "source": []
  },
  {
   "cell_type": "markdown",
   "metadata": {},
   "source": [
    "Instalacion de un nuevo proyecto:\n",
    "\n",
    "    1.- \" ionic start (nombre de la app) (tipo de plantilla)\" ejemplo \"ionic start MyApp Tabs\" hay mas plantillas en https://ionicframework.com/docs/v3/cli/starters.html\n",
    "    2.- Seleccionar que framework hay que usar da la opcion de angular, react y vue ya es cada quien su eleccion\n",
    "    3.- Aceptar el uso de capacitor en tu app ya que sirve para compilarlo mejor.\n",
    "    4.- Ingresar a la carpeta de la app nueva con el comando \" cd (nombre) \"\n",
    "    5.- Para visualizar la app hay que usar el comando \" ionic serve \""
   ]
  },
  {
   "cell_type": "markdown",
   "metadata": {},
   "source": [
    "# Angular e Ionic\n",
    "\n",
    " ### Como crear paginas o componentes\n",
    "\n",
    "Para crear una pagina se usa el comando \" ionic generate (tipo) (nombre)\" ejemplo para crear una pagina se usa el \" ionic generate page home \"\n",
    "  ° En esta liga se encuentra los tipos de cosas que se pueden generar: https://ionicframework.com/docs/v5/cli/commands/generate\n",
    "\n",
    " ### Rutas de archivos\n",
    " Estos se encuentran en la carpeta de app-routing.modules.ts ahi se encuentran automaticamente las rutas de las paginas que se crearon por el usuario.\n",
    "\n",
    " ### Agregar esas paginas a la barra de menu\n",
    " Esto se hace en el archivo app.components.ts donde se agrega  { title: 'Home', url: '/home', icon: 'warning' } por cada pagina que se quiere agregar en title se pone el nombre a mostrar, en url es la que se tiene en las rutas en 'path' ya en icon se pone el icono.\n",
    "\n",
    " ### Estilos\n",
    " Para agregar estilos, debemos de hacerlos en la carpeta Theme y en el archivo variables.scss y para generar un color propio se hace en https://ionicframework.com/docs/theming/colors donde se selecciona el color y el nombre que se le dara ya solo es pegarlo en el archivo de variables. Y en el scss global se edita solamente cambiando el color por el nombre de mi estilo ejemplo:  color: var(--ion-color-primary); ->  color: var(--ion-color-miestilo);\n",
    "\n",
    "\n"
   ]
  },
  {
   "cell_type": "markdown",
   "metadata": {},
   "source": [
    "### Navegacion \n",
    "\n",
    "Para hacer esto primero debemos de ver la documentacion en https://ionicframework.com/docs/angular/navigation y buscar la seccion de como navegar entre diferentes rutas."
   ]
  }
 ],
 "metadata": {
  "language_info": {
   "name": "python"
  },
  "orig_nbformat": 4
 },
 "nbformat": 4,
 "nbformat_minor": 2
}
